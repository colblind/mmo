{
 "cells": [
  {
   "cell_type": "markdown",
   "metadata": {},
   "source": [
    "# Лабораторная работа 10. Построение пайплайна полиномиальной регрессии\n",
    "## <a href=\"https://www.kaggle.com/datasets/ayushparwal2026/shopping-dataset\">Набор данных о покупках</a>"
   ]
  },
  {
   "cell_type": "markdown",
   "metadata": {},
   "source": [
    "### Описание набора данных:\n",
    "1. Customer ID - <b>Целое</b> - Идентификатор клиента. Уникальный идентификатор, присваиваемый каждому клиенту для целей отслеживания и анализа.\n",
    "2. Gender - <b>Категориальное</b> - пол клиента, который может быть разделен на мужской, женский или недвоичный. Понимание гендерного распределения клиентов может помочь розничным торговцам адаптировать свои маркетинговые стратегии и предложения продуктов к различным демографическим сегментам.\n",
    "3. Income - <b>Целое</b> - уровень дохода клиента (в тыс. долларов в год), обычно подразделяемый на категории или диапазоны доходов. Данные о доходах дают представление о покупательной способности различных сегментов клиентов и помогают розничным торговцам определять стратегии ценообразования и доступность продуктов.\n",
    "4. Spending Score - <b>Целое</b> - числовая оценка ([0; 100]), присваиваемая каждому клиенту на основе его поведения в отношении расходов, часто рассчитываемая с использованием таких факторов, как частота покупок, средняя стоимость транзакции и общие расходы. Оценка расходов помогает розничным торговцам выявлять ценных клиентов, которые вносят значительный вклад в продажи и прибыльность.\n",
    "5. Age - <b>Целое</b> - возраст клиента, обычно подразделяемый на возрастные группы или диапазоны. Данные о возрасте необходимы для понимания демографического состава клиентской базы и адаптации маркетинговых сообщений и предложений продуктов к различным возрастным сегментам. Кроме того, информация о возрасте может быть использована при принятии решений, связанных с дизайном продукта, упаковкой и планировкой магазина, чтобы соответствовать конкретной возрастной группе населения."
   ]
  },
  {
   "cell_type": "markdown",
   "metadata": {},
   "source": [
    "Подключение библиотек"
   ]
  },
  {
   "cell_type": "code",
   "execution_count": 1,
   "metadata": {
    "ExecuteTime": {
     "end_time": "2022-09-01T14:46:33.957658Z",
     "start_time": "2022-09-01T14:46:33.461323Z"
    }
   },
   "outputs": [],
   "source": [
    "import numpy as np\n",
    "import matplotlib.pyplot as plt\n",
    "import pandas as pd"
   ]
  },
  {
   "cell_type": "markdown",
   "metadata": {},
   "source": [
    "Загрузка данных"
   ]
  },
  {
   "cell_type": "code",
   "execution_count": 2,
   "metadata": {
    "ExecuteTime": {
     "end_time": "2022-09-01T14:47:33.542277Z",
     "start_time": "2022-09-01T14:47:33.524265Z"
    }
   },
   "outputs": [
    {
     "data": {
      "text/html": [
       "<div>\n",
       "<style scoped>\n",
       "    .dataframe tbody tr th:only-of-type {\n",
       "        vertical-align: middle;\n",
       "    }\n",
       "\n",
       "    .dataframe tbody tr th {\n",
       "        vertical-align: top;\n",
       "    }\n",
       "\n",
       "    .dataframe thead th {\n",
       "        text-align: right;\n",
       "    }\n",
       "</style>\n",
       "<table border=\"1\" class=\"dataframe\">\n",
       "  <thead>\n",
       "    <tr style=\"text-align: right;\">\n",
       "      <th></th>\n",
       "      <th>CustomerID</th>\n",
       "      <th>Genre</th>\n",
       "      <th>Age</th>\n",
       "      <th>Annual Income (k$)</th>\n",
       "      <th>Spending Score (1-100)</th>\n",
       "    </tr>\n",
       "  </thead>\n",
       "  <tbody>\n",
       "    <tr>\n",
       "      <th>0</th>\n",
       "      <td>1</td>\n",
       "      <td>Male</td>\n",
       "      <td>19</td>\n",
       "      <td>15</td>\n",
       "      <td>39</td>\n",
       "    </tr>\n",
       "    <tr>\n",
       "      <th>1</th>\n",
       "      <td>2</td>\n",
       "      <td>Male</td>\n",
       "      <td>21</td>\n",
       "      <td>15</td>\n",
       "      <td>81</td>\n",
       "    </tr>\n",
       "    <tr>\n",
       "      <th>2</th>\n",
       "      <td>3</td>\n",
       "      <td>Female</td>\n",
       "      <td>20</td>\n",
       "      <td>16</td>\n",
       "      <td>6</td>\n",
       "    </tr>\n",
       "    <tr>\n",
       "      <th>3</th>\n",
       "      <td>4</td>\n",
       "      <td>Female</td>\n",
       "      <td>23</td>\n",
       "      <td>16</td>\n",
       "      <td>77</td>\n",
       "    </tr>\n",
       "    <tr>\n",
       "      <th>4</th>\n",
       "      <td>5</td>\n",
       "      <td>Female</td>\n",
       "      <td>31</td>\n",
       "      <td>17</td>\n",
       "      <td>40</td>\n",
       "    </tr>\n",
       "  </tbody>\n",
       "</table>\n",
       "</div>"
      ],
      "text/plain": [
       "   CustomerID   Genre  Age  Annual Income (k$)  Spending Score (1-100)\n",
       "0           1    Male   19                  15                      39\n",
       "1           2    Male   21                  15                      81\n",
       "2           3  Female   20                  16                       6\n",
       "3           4  Female   23                  16                      77\n",
       "4           5  Female   31                  17                      40"
      ]
     },
     "execution_count": 2,
     "metadata": {},
     "output_type": "execute_result"
    }
   ],
   "source": [
    "dataset = pd.read_csv('Shopping_data.csv')\n",
    "\n",
    "dataset.head()"
   ]
  },
  {
   "cell_type": "markdown",
   "metadata": {},
   "source": [
    "Разделение на матрицу признаков и зависимую переменную"
   ]
  },
  {
   "cell_type": "code",
   "execution_count": 8,
   "metadata": {
    "ExecuteTime": {
     "end_time": "2022-09-01T14:47:37.122616Z",
     "start_time": "2022-09-01T14:47:37.107605Z"
    }
   },
   "outputs": [
    {
     "name": "stdout",
     "output_type": "stream",
     "text": [
      "Матрица признаков\n",
      "[1 2 3 4 5]\n",
      "Зависимая переменная\n",
      "[15000 15000 16000 16000 17000]\n"
     ]
    }
   ],
   "source": [
    "X = dataset.iloc[:, 0].values\n",
    "y = dataset.iloc[:, 3].values\n",
    "\n",
    "y *= 1000\n",
    "\n",
    "print (\"Матрица признаков\"); print(X[:5])\n",
    "print (\"Зависимая переменная\"); print(y[:5])"
   ]
  },
  {
   "cell_type": "markdown",
   "metadata": {},
   "source": [
    "Обработка пропущенных значений"
   ]
  },
  {
   "cell_type": "code",
   "execution_count": null,
   "metadata": {},
   "outputs": [],
   "source": [
    "from sklearn.impute import SimpleImputer\n",
    "\n",
    "\n",
    "imputer = SimpleImputer(missing_values = np.nan, strategy = 'mean').fit(X[:, 1:3])\n",
    "\n",
    "X[:, 1:3] = imputer.transform(X[:, 1:3])"
   ]
  },
  {
   "cell_type": "markdown",
   "metadata": {},
   "source": [
    "Замена категории кодом (LabelEncoder)"
   ]
  },
  {
   "cell_type": "code",
   "execution_count": null,
   "metadata": {},
   "outputs": [],
   "source": [
    "from sklearn.preprocessing import LabelEncoder\n",
    "\n",
    "\n",
    "label_encoder_y = LabelEncoder()\n",
    "\n",
    "y = label_encoder_y.fit_transform(y)"
   ]
  },
  {
   "cell_type": "markdown",
   "metadata": {},
   "source": [
    "Преобразования категориальных меток в числовые значения (OneHotEncoder)"
   ]
  },
  {
   "cell_type": "code",
   "execution_count": null,
   "metadata": {
    "scrolled": true
   },
   "outputs": [],
   "source": [
    "from sklearn.preprocessing import OneHotEncoder\n",
    "\n",
    "\n",
    "label_encoder_X = LabelEncoder()\n",
    "onehotencoder = OneHotEncoder()\n",
    "\n",
    "X[:, 0] = label_encoder_X.fit_transform(X[:, 0])\n",
    "X = onehotencoder.fit_transform(X).toarray()"
   ]
  },
  {
   "cell_type": "markdown",
   "metadata": {
    "ExecuteTime": {
     "end_time": "2019-10-11T19:39:04.346591Z",
     "start_time": "2019-10-11T19:39:04.343589Z"
    }
   },
   "source": [
    "Обучение линейной модели"
   ]
  },
  {
   "cell_type": "code",
   "execution_count": 10,
   "metadata": {
    "ExecuteTime": {
     "end_time": "2022-09-01T14:49:27.018740Z",
     "start_time": "2022-09-01T14:49:26.714919Z"
    }
   },
   "outputs": [
    {
     "data": {
      "text/plain": [
       "LinearRegression(copy_X=True, fit_intercept=True, n_jobs=None,\n",
       "         normalize=False)"
      ]
     },
     "execution_count": 10,
     "metadata": {},
     "output_type": "execute_result"
    }
   ],
   "source": [
    "from sklearn.linear_model import LinearRegression\n",
    "\n",
    "\n",
    "X = X.reshape(-1, 1)\n",
    "\n",
    "lin_reg = LinearRegression()\n",
    "\n",
    "lin_reg.fit(X, y)"
   ]
  },
  {
   "cell_type": "markdown",
   "metadata": {},
   "source": [
    "Обучение полиномиальной модели*\n",
    "<br>\n",
    "<br>\n",
    "<i>Полиномиальная модель - это модель, которая используется для замены (аппроксимации) сложных нелинейных зависимостей между переменными. В отличие от линейной модели, которая предполагает линейную зависимость между предикторами и зависимой переменной, полиномиальная модель позволяет учитывать криволинейные отношения путем включения степеней их значений в модель.\n",
    "<br/>Например, в полиномиальной модели вместо простой линейной зависимости типа y = ax + b могут использоваться более сложные уравнения вида y = ax^2 + bx + c или даже более высоких степеней.</i>"
   ]
  },
  {
   "cell_type": "code",
   "execution_count": 11,
   "metadata": {
    "ExecuteTime": {
     "end_time": "2022-09-01T14:49:35.200068Z",
     "start_time": "2022-09-01T14:49:35.154730Z"
    }
   },
   "outputs": [
    {
     "data": {
      "text/plain": [
       "LinearRegression(copy_X=True, fit_intercept=True, n_jobs=None,\n",
       "         normalize=False)"
      ]
     },
     "execution_count": 11,
     "metadata": {},
     "output_type": "execute_result"
    }
   ],
   "source": [
    "from sklearn.preprocessing import PolynomialFeatures\n",
    "\n",
    "\n",
    "poly_reg = PolynomialFeatures(degree = 10)\n",
    "\n",
    "X_poly = poly_reg.fit_transform(X)\n",
    "poly_reg.fit(X_poly, y)\n",
    "\n",
    "lin_reg_2 = LinearRegression()\n",
    "lin_reg_2.fit(X_poly, y)"
   ]
  },
  {
   "cell_type": "markdown",
   "metadata": {},
   "source": [
    "Предсказание, обработка и визуализация результатов"
   ]
  },
  {
   "cell_type": "code",
   "execution_count": 15,
   "metadata": {
    "ExecuteTime": {
     "end_time": "2022-09-01T14:49:43.407903Z",
     "start_time": "2022-09-01T14:49:43.250799Z"
    }
   },
   "outputs": [
    {
     "name": "stdout",
     "output_type": "stream",
     "text": [
      "[18861.87354684] [24689.63117091]\n"
     ]
    },
    {
     "data": {
      "image/png": "[encoded data removed]",
      "text/plain": [
       "<Figure size 432x288 with 1 Axes>"
      ]
     },
     "metadata": {
      "needs_background": "light"
     },
     "output_type": "display_data"
    }
   ],
   "source": [
    "# прогнозирование значения зависимой переменной \n",
    "# с использованием линейной и полиноминальной модели для значения 6.5\n",
    "y_pred_lin = lin_reg.predict([[6.5]])\n",
    "y_pred_poly = lin_reg_2.predict(poly_reg.fit_transform([[6.5]]))\n",
    "\n",
    "print(y_pred_lin, y_pred_poly)\n",
    "\n",
    "# точечная форма изображения регрессии\n",
    "plt.scatter(X, y, color = 'red')\n",
    "\n",
    "# построение линейной регрессии\n",
    "plt.plot(X, lin_reg.predict(X), color = 'blue')\n",
    "\n",
    "plt.title('Truth or Bluff (Linear Regression)')\n",
    "\n",
    "plt.xlabel('Level')\n",
    "plt.ylabel('Annual Income')\n",
    "\n",
    "plt.show()"
   ]
  },
  {
   "cell_type": "code",
   "execution_count": 16,
   "metadata": {
    "ExecuteTime": {
     "end_time": "2022-09-01T14:49:46.802147Z",
     "start_time": "2022-09-01T14:49:46.667055Z"
    }
   },
   "outputs": [
    {
     "data": {
      "image/png": "[encoded data removed]",
      "text/plain": [
       "<Figure size 432x288 with 1 Axes>"
      ]
     },
     "metadata": {
      "needs_background": "light"
     },
     "output_type": "display_data"
    }
   ],
   "source": [
    "# точечная форма изображения регрессии\n",
    "plt.scatter(X, y, color = 'red')\n",
    "\n",
    "# построение полиноминальной регрессии\n",
    "plt.plot(X, lin_reg_2.predict(poly_reg.fit_transform(X)), color = 'blue')\n",
    "\n",
    "plt.title('Truth or Bluff (Polynomial Regression)')\n",
    "\n",
    "plt.xlabel('Level')\n",
    "plt.ylabel('Annual Income')\n",
    "\n",
    "plt.show()"
   ]
  },
  {
   "cell_type": "code",
   "execution_count": 17,
   "metadata": {
    "ExecuteTime": {
     "end_time": "2022-09-01T14:49:51.016641Z",
     "start_time": "2022-09-01T14:49:50.866694Z"
    }
   },
   "outputs": [
    {
     "data": {
      "image/png": "[encoded data removed]",
      "text/plain": [
       "<Figure size 432x288 with 1 Axes>"
      ]
     },
     "metadata": {
      "needs_background": "light"
     },
     "output_type": "display_data"
    }
   ],
   "source": [
    "# Создание массива значений X для более плавной линии регрессии\n",
    "X_grid = np.arange(min(X), max(X), 0.1)\n",
    "X_grid = X_grid.reshape((len(X_grid), 1))\n",
    "\n",
    "# точечная форма изображения регрессии\n",
    "plt.scatter(X, y, color = 'red')\n",
    "\n",
    "# построение линейной регрессии\n",
    "plt.plot(X_grid, lin_reg_2.predict(poly_reg.fit_transform(X_grid)), color = 'blue')\n",
    "\n",
    "plt.title('Truth or Bluff (Polynomial Regression)')\n",
    "\n",
    "plt.xlabel('Level')\n",
    "plt.ylabel('Annual Income')\n",
    "\n",
    "plt.show()"
   ]
  }
 ],
 "metadata": {
  "kernelspec": {
   "display_name": "Python 3",
   "language": "python",
   "name": "python3"
  },
  "language_info": {
   "codemirror_mode": {
    "name": "ipython",
    "version": 3
   },
   "file_extension": ".py",
   "mimetype": "text/x-python",
   "name": "python",
   "nbconvert_exporter": "python",
   "pygments_lexer": "ipython3",
   "version": "3.7.3"
  },
  "toc": {
   "base_numbering": 1,
   "nav_menu": {},
   "number_sections": true,
   "sideBar": true,
   "skip_h1_title": false,
   "title_cell": "Table of Contents",
   "title_sidebar": "Contents",
   "toc_cell": false,
   "toc_position": {},
   "toc_section_display": true,
   "toc_window_display": false
  }
 },
 "nbformat": 4,
 "nbformat_minor": 2
}
