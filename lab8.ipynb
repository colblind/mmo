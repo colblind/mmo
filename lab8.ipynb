{
 "cells": [
  {
   "cell_type": "markdown",
   "metadata": {},
   "source": [
    "# Лабораторная работа 8. Построение пайплайна одномерной регрессии"
   ]
  },
  {
   "cell_type": "markdown",
   "metadata": {},
   "source": [
    "## <a href=\"https://www.kaggle.com/datasets/mahad049/college-placement\">Распределение студентов по IQ и CGPA*</a>\n",
    "<i>CGPA - это среднее значение всех оценок, полученных студентом за всю академическую карьеру, и используется для оценки общей успеваемости студента в колледже.</i>"
   ]
  },
  {
   "cell_type": "markdown",
   "metadata": {},
   "source": [
    "### Описание набора данных:\n",
    "Этот набор данных содержит записи об атрибутах учащихся и их соответствующем статусе зачисления. Он включает в себя такую информацию, как: город проживания или местонахождение учебного заведения, совокупный средний балл успеваемости (CGPA), показатели коэффициента интеллекта (IQ) и двоичный показатель, указывающий, получил ли студент работу или стажировку. Набор данных представляет собой комбинацию числовых и категориальных данных, при этом в некоторых записях присутствуют экземпляры пропущенных значений."
   ]
  },
  {
   "cell_type": "markdown",
   "metadata": {},
   "source": [
    "### Прилагающаяся информация:\n",
    "Набор данных дает представление о характеристиках студентов и результатах их трудоустройства, включая: город проживания, средний балл аттестата зрелости, показатели IQ и статус трудоустройства. Он предоставляет ценные данные для анализа факторов, влияющих на трудоустройство студентов, помогая учебным заведениям и рекрутерам в разработке стратегий для улучшения результатов трудоустройства."
   ]
  },
  {
   "cell_type": "markdown",
   "metadata": {},
   "source": [
    "### Назначение набора данных и возможные модели:\n",
    "\n",
    "1) city - <b>Категориальное</b> - Город, в котором проходит обучение\n",
    "2) cgpa - <b>Дробное</b> - количество баллов CGPA\n",
    "3) iq - <b>Дробное</b> - коичество баллов IQ студента\n",
    "4) placement - <b>Целое</b> - статус трудоустройства (1 - трудоустроен, 0 - не трудоустроен)"
   ]
  },
  {
   "cell_type": "markdown",
   "metadata": {},
   "source": [
    "Подключение библиотек"
   ]
  },
  {
   "cell_type": "code",
   "execution_count": 1,
   "metadata": {
    "ExecuteTime": {
     "end_time": "2022-09-01T14:37:38.946376Z",
     "start_time": "2022-09-01T14:37:38.416020Z"
    }
   },
   "outputs": [],
   "source": [
    "import matplotlib.pyplot as plt\n",
    "import pandas as pd"
   ]
  },
  {
   "cell_type": "markdown",
   "metadata": {},
   "source": [
    "Загрузка данных "
   ]
  },
  {
   "cell_type": "code",
   "execution_count": 13,
   "metadata": {
    "ExecuteTime": {
     "end_time": "2022-09-01T14:37:48.005430Z",
     "start_time": "2022-09-01T14:37:47.983416Z"
    }
   },
   "outputs": [
    {
     "data": {
      "text/html": [
       "<div>\n",
       "<style scoped>\n",
       "    .dataframe tbody tr th:only-of-type {\n",
       "        vertical-align: middle;\n",
       "    }\n",
       "\n",
       "    .dataframe tbody tr th {\n",
       "        vertical-align: top;\n",
       "    }\n",
       "\n",
       "    .dataframe thead th {\n",
       "        text-align: right;\n",
       "    }\n",
       "</style>\n",
       "<table border=\"1\" class=\"dataframe\">\n",
       "  <thead>\n",
       "    <tr style=\"text-align: right;\">\n",
       "      <th></th>\n",
       "      <th>city</th>\n",
       "      <th>cgpa</th>\n",
       "      <th>iq</th>\n",
       "      <th>placement</th>\n",
       "    </tr>\n",
       "  </thead>\n",
       "  <tbody>\n",
       "    <tr>\n",
       "      <th>0</th>\n",
       "      <td>New York</td>\n",
       "      <td>6.8</td>\n",
       "      <td>123.0</td>\n",
       "      <td>1</td>\n",
       "    </tr>\n",
       "    <tr>\n",
       "      <th>1</th>\n",
       "      <td>Los Angeles</td>\n",
       "      <td>5.9</td>\n",
       "      <td>106.0</td>\n",
       "      <td>0</td>\n",
       "    </tr>\n",
       "    <tr>\n",
       "      <th>2</th>\n",
       "      <td>Chicago</td>\n",
       "      <td>NaN</td>\n",
       "      <td>121.0</td>\n",
       "      <td>0</td>\n",
       "    </tr>\n",
       "    <tr>\n",
       "      <th>3</th>\n",
       "      <td>New York</td>\n",
       "      <td>7.4</td>\n",
       "      <td>132.0</td>\n",
       "      <td>1</td>\n",
       "    </tr>\n",
       "    <tr>\n",
       "      <th>4</th>\n",
       "      <td>Los Angeles</td>\n",
       "      <td>5.8</td>\n",
       "      <td>142.0</td>\n",
       "      <td>0</td>\n",
       "    </tr>\n",
       "  </tbody>\n",
       "</table>\n",
       "</div>"
      ],
      "text/plain": [
       "          city  cgpa     iq  placement\n",
       "0     New York   6.8  123.0          1\n",
       "1  Los Angeles   5.9  106.0          0\n",
       "2      Chicago   NaN  121.0          0\n",
       "3     New York   7.4  132.0          1\n",
       "4  Los Angeles   5.8  142.0          0"
      ]
     },
     "execution_count": 13,
     "metadata": {},
     "output_type": "execute_result"
    }
   ],
   "source": [
    "dataset = pd.read_csv('placement-dataset.csv')\n",
    "\n",
    "dataset.head()"
   ]
  },
  {
   "cell_type": "markdown",
   "metadata": {},
   "source": [
    "Разделение на матрицу признаков и зависимую переменную"
   ]
  },
  {
   "cell_type": "code",
   "execution_count": 32,
   "metadata": {
    "ExecuteTime": {
     "end_time": "2022-09-01T14:37:50.668211Z",
     "start_time": "2022-09-01T14:37:50.655202Z"
    }
   },
   "outputs": [
    {
     "name": "stdout",
     "output_type": "stream",
     "text": [
      "Матрица признаков\n",
      "[[6.8]\n",
      " [5.9]\n",
      " [nan]\n",
      " [7.4]\n",
      " [5.8]]\n",
      "Зависимая переменная\n",
      "[123. 106. 121. 132. 142.]\n"
     ]
    }
   ],
   "source": [
    "X = dataset.iloc[:, 1:-2].values\n",
    "y = dataset.iloc[:, 2].values\n",
    "\n",
    "print (\"Матрица признаков\", X[:5])\n",
    "print (\"Зависимая переменная\", y[:5])"
   ]
  },
  {
   "cell_type": "markdown",
   "metadata": {},
   "source": "Обработка пропущенных значений (опционально)"
  },
  {
   "cell_type": "code",
   "execution_count": 44,
   "metadata": {
    "ExecuteTime": {
     "end_time": "2022-09-01T14:39:04.538306Z",
     "start_time": "2022-09-01T14:39:04.535306Z"
    }
   },
   "outputs": [
    {
     "name": "stdout",
     "output_type": "stream",
     "text": [
      "[[6.8       ]\n",
      " [5.9       ]\n",
      " [5.96521739]\n",
      " [7.4       ]\n",
      " [5.8       ]\n",
      " [7.1       ]\n",
      " [5.7       ]\n",
      " [5.        ]\n",
      " [6.1       ]\n",
      " [5.1       ]\n",
      " [6.        ]\n",
      " [6.9       ]\n",
      " [5.4       ]\n",
      " [6.4       ]\n",
      " [5.96521739]\n",
      " [5.1       ]\n",
      " [5.2       ]\n",
      " [3.3       ]\n",
      " [4.        ]\n",
      " [5.2       ]\n",
      " [6.6       ]\n",
      " [7.1       ]\n",
      " [4.9       ]\n",
      " [5.96521739]\n",
      " [4.7       ]\n",
      " [5.        ]\n",
      " [7.        ]\n",
      " [6.        ]\n",
      " [5.2       ]\n",
      " [5.96521739]\n",
      " [7.6       ]\n",
      " [3.9       ]\n",
      " [7.        ]\n",
      " [6.        ]\n",
      " [4.8       ]\n",
      " [6.8       ]\n",
      " [5.7       ]\n",
      " [8.1       ]\n",
      " [6.5       ]\n",
      " [4.6       ]\n",
      " [4.9       ]\n",
      " [5.4       ]\n",
      " [7.6       ]\n",
      " [5.96521739]\n",
      " [7.5       ]\n",
      " [6.        ]\n",
      " [5.3       ]\n",
      " [5.2       ]\n",
      " [6.6       ]\n",
      " [5.4       ]\n",
      " [3.5       ]\n",
      " [4.8       ]\n",
      " [5.96521739]\n",
      " [8.3       ]\n",
      " [6.4       ]\n",
      " [7.8       ]\n",
      " [6.1       ]\n",
      " [6.5       ]\n",
      " [8.        ]\n",
      " [4.8       ]\n",
      " [5.96521739]\n",
      " [7.3       ]\n",
      " [6.        ]\n",
      " [6.3       ]\n",
      " [7.        ]\n",
      " [8.1       ]\n",
      " [6.9       ]\n",
      " [5.        ]\n",
      " [4.        ]\n",
      " [8.5       ]\n",
      " [6.3       ]\n",
      " [6.1       ]\n",
      " [7.3       ]\n",
      " [4.9       ]\n",
      " [6.7       ]\n",
      " [4.8       ]\n",
      " [4.9       ]\n",
      " [7.3       ]\n",
      " [6.1       ]\n",
      " [5.96521739]\n",
      " [4.9       ]\n",
      " [5.4       ]\n",
      " [6.5       ]\n",
      " [7.5       ]\n",
      " [5.7       ]\n",
      " [5.8       ]\n",
      " [5.1       ]\n",
      " [5.7       ]\n",
      " [4.4       ]\n",
      " [4.9       ]\n",
      " [7.3       ]\n",
      " [7.5       ]\n",
      " [5.2       ]\n",
      " [6.8       ]\n",
      " [4.7       ]\n",
      " [4.3       ]\n",
      " [4.4       ]\n",
      " [6.7       ]\n",
      " [6.3       ]\n",
      " [6.2       ]]\n",
      "[[123.        ]\n",
      " [106.        ]\n",
      " [121.        ]\n",
      " [132.        ]\n",
      " [142.        ]\n",
      " [ 48.        ]\n",
      " [117.91666667]\n",
      " [ 63.        ]\n",
      " [156.        ]\n",
      " [ 66.        ]\n",
      " [ 45.        ]\n",
      " [138.        ]\n",
      " [139.        ]\n",
      " [116.        ]\n",
      " [103.        ]\n",
      " [176.        ]\n",
      " [224.        ]\n",
      " [183.        ]\n",
      " [117.91666667]\n",
      " [132.        ]\n",
      " [120.        ]\n",
      " [151.        ]\n",
      " [120.        ]\n",
      " [ 87.        ]\n",
      " [121.        ]\n",
      " [ 91.        ]\n",
      " [199.        ]\n",
      " [124.        ]\n",
      " [ 90.        ]\n",
      " [  1.        ]\n",
      " [128.        ]\n",
      " [109.        ]\n",
      " [139.        ]\n",
      " [149.        ]\n",
      " [163.        ]\n",
      " [ 90.        ]\n",
      " [140.        ]\n",
      " [149.        ]\n",
      " [160.        ]\n",
      " [146.        ]\n",
      " [134.        ]\n",
      " [114.        ]\n",
      " [ 89.        ]\n",
      " [141.        ]\n",
      " [ 61.        ]\n",
      " [ 66.        ]\n",
      " [114.        ]\n",
      " [161.        ]\n",
      " [138.        ]\n",
      " [135.        ]\n",
      " [233.        ]\n",
      " [141.        ]\n",
      " [  1.        ]\n",
      " [168.        ]\n",
      " [141.        ]\n",
      " [114.        ]\n",
      " [ 65.        ]\n",
      " [130.        ]\n",
      " [ 79.        ]\n",
      " [112.        ]\n",
      " [  1.        ]\n",
      " [137.        ]\n",
      " [102.        ]\n",
      " [128.        ]\n",
      " [ 64.        ]\n",
      " [166.        ]\n",
      " [ 96.        ]\n",
      " [118.        ]\n",
      " [ 75.        ]\n",
      " [120.        ]\n",
      " [127.        ]\n",
      " [117.91666667]\n",
      " [116.        ]\n",
      " [ 61.        ]\n",
      " [154.        ]\n",
      " [169.        ]\n",
      " [155.        ]\n",
      " [ 50.        ]\n",
      " [ 81.        ]\n",
      " [  1.        ]\n",
      " [196.        ]\n",
      " [107.        ]\n",
      " [ 37.        ]\n",
      " [130.        ]\n",
      " [169.        ]\n",
      " [166.        ]\n",
      " [128.        ]\n",
      " [132.        ]\n",
      " [149.        ]\n",
      " [117.91666667]\n",
      " [ 86.        ]\n",
      " [158.        ]\n",
      " [110.        ]\n",
      " [112.        ]\n",
      " [ 52.        ]\n",
      " [200.        ]\n",
      " [ 42.        ]\n",
      " [182.        ]\n",
      " [103.        ]\n",
      " [113.        ]]\n"
     ]
    }
   ],
   "source": [
    "from sklearn.impute import SimpleImputer\n",
    "import numpy as np\n",
    "\n",
    "\n",
    "X = X.reshape(-1, 1)\n",
    "\n",
    "# Создание экземпляра SimpleImputer\n",
    "imputer = SimpleImputer(missing_values=np.nan, strategy='mean')\n",
    "\n",
    "# Обучение импутера на данных\n",
    "X = imputer.fit_transform(X)\n",
    "\n",
    "y = y.reshape(-1, 1)\n",
    "\n",
    "# Создание отдельного экземпляра SimpleImputer для y\n",
    "imputer2 = SimpleImputer(missing_values=np.nan, strategy='mean')\n",
    "\n",
    "# Обучение импутера на данных\n",
    "y = imputer2.fit_transform(y)\n",
    "\n",
    "# Вывод обновленных наборов данных\n",
    "print(X)\n",
    "print(y)"
   ]
  },
  {
   "cell_type": "code",
   "execution_count": 52,
   "metadata": {},
   "outputs": [],
   "source": [
    "# Сортировка массива X\n",
    "X = np.sort(X, axis=0)\n",
    "\n",
    "# Сортировка массива y\n",
    "y = np.sort(y, axis=0)"
   ]
  },
  {
   "cell_type": "markdown",
   "metadata": {},
   "source": [
    "Замена категории кодом (LabelEncoder)"
   ]
  },
  {
   "cell_type": "code",
   "execution_count": null,
   "metadata": {},
   "outputs": [],
   "source": [
    "from sklearn.preprocessing import LabelEncoder\n",
    "\n",
    "\n",
    "label_encoder_y = LabelEncoder()\n",
    "y = label_encoder_y.fit_transform(y)\n"
   ]
  },
  {
   "cell_type": "markdown",
   "metadata": {},
   "source": [
    "Преобразования категориальных меток в числовые значения (OneHotEncoder)"
   ]
  },
  {
   "cell_type": "code",
   "execution_count": null,
   "metadata": {
    "scrolled": true
   },
   "outputs": [],
   "source": [
    "from sklearn.preprocessing import OneHotEncoder\n",
    "\n",
    "\n",
    "label_encoder_X = LabelEncoder()\n",
    "X[:, 0] = label_encoder_X.fit_transform(X[:, 0])\n",
    "\n",
    "onehotencoder = OneHotEncoder(categorical_features = [0])\n",
    "X = onehotencoder.fit_transform(X).toarray()"
   ]
  },
  {
   "cell_type": "markdown",
   "metadata": {
    "collapsed": true
   },
   "source": [
    "Разделение выборки на тестовую и тренировочную"
   ]
  },
  {
   "cell_type": "code",
   "execution_count": 53,
   "metadata": {
    "ExecuteTime": {
     "end_time": "2022-09-01T14:39:31.585348Z",
     "start_time": "2022-09-01T14:39:30.143150Z"
    }
   },
   "outputs": [],
   "source": [
    "from sklearn.model_selection import train_test_split\n",
    "\n",
    "\n",
    "X_train, X_test, y_train, y_test = train_test_split(X, y, test_size = 1/4, random_state = 0) \n",
    "\n",
    "# X и y - представляют собой признаки и целевую переменную соответственно\n",
    "# test_size = 1/4 - указывает, что 25% данных будут выделены для тестового набора,\n",
    "# а оставшиеся 75% будут использованы для обучения модели\n",
    "# random_state = 0 - фиксирует генерацию случайных чисел, что гарантирует \n",
    "# воспроизводимость разделения данных. При использовании одного \n",
    "# и того же random_state результаты разделения будут одинаковыми при каждом запуске."
   ]
  },
  {
   "cell_type": "markdown",
   "metadata": {},
   "source": [
    "Обучение линейной модели регрессии\n",
    "<br/><i>Линейная регрессия - метод восстановления зависимости между двумя переменными</i>"
   ]
  },
  {
   "cell_type": "code",
   "execution_count": 54,
   "metadata": {
    "ExecuteTime": {
     "end_time": "2022-09-01T14:39:46.784542Z",
     "start_time": "2022-09-01T14:39:44.606639Z"
    }
   },
   "outputs": [
    {
     "data": {
      "text/plain": [
       "LinearRegression()"
      ]
     },
     "execution_count": 54,
     "metadata": {},
     "output_type": "execute_result"
    }
   ],
   "source": [
    "from sklearn.linear_model import LinearRegression\n",
    "\n",
    "\n",
    "regressor = LinearRegression()\n",
    "\n",
    "regressor.fit(X_train, y_train)"
   ]
  },
  {
   "cell_type": "markdown",
   "metadata": {},
   "source": [
    "Предсказание, обработка и визуализация результатов"
   ]
  },
  {
   "cell_type": "code",
   "execution_count": 55,
   "metadata": {
    "ExecuteTime": {
     "end_time": "2022-09-01T14:39:55.195658Z",
     "start_time": "2022-09-01T14:39:55.142004Z"
    }
   },
   "outputs": [
    {
     "name": "stdout",
     "output_type": "stream",
     "text": [
      "[[ 85.00796978]\n",
      " [170.93523872]\n",
      " [ 38.13855035]\n",
      " [120.16003435]\n",
      " [151.40631396]\n",
      " [182.65259358]\n",
      " [ 77.19639987]\n",
      " [147.50052901]\n",
      " [120.16003435]\n",
      " [198.27573339]\n",
      " [120.16003435]\n",
      " [182.65259358]\n",
      " [155.31209891]\n",
      " [ 73.29061492]\n",
      " [ 57.66747511]\n",
      " [ 88.91375473]\n",
      " [ 81.10218483]\n",
      " [ 85.00796978]\n",
      " [ 96.72532463]\n",
      " [ 65.47904502]\n",
      " [116.25424939]\n",
      " [131.8773892 ]\n",
      " [ 42.0443353 ]\n",
      " [143.59474406]\n",
      " [118.80150045]]\n"
     ]
    }
   ],
   "source": [
    "y_pred = regressor.predict(X_test)\n",
    "\n",
    "print(y_pred)"
   ]
  },
  {
   "cell_type": "code",
   "execution_count": 56,
   "metadata": {
    "ExecuteTime": {
     "end_time": "2022-09-01T14:39:57.121715Z",
     "start_time": "2022-09-01T14:39:56.509973Z"
    }
   },
   "outputs": [
    {
     "data": {
      "image/png": "[encoded data removed]",
      "text/plain": [
       "<Figure size 640x480 with 1 Axes>"
      ]
     },
     "metadata": {},
     "output_type": "display_data"
    }
   ],
   "source": [
    "# Отображание точкек данных обучающего набора\n",
    "plt.scatter(X_train, y_train, color = 'red')\n",
    "plt.plot(X_train, regressor.predict(X_train), color = 'blue')\n",
    "\n",
    "plt.title('Salary vs Experience (Training set)')\n",
    "\n",
    "plt.xlabel('Years of Experience')\n",
    "plt.ylabel('Salary')\n",
    "\n",
    "plt.show()"
   ]
  },
  {
   "cell_type": "code",
   "execution_count": 57,
   "metadata": {
    "ExecuteTime": {
     "end_time": "2022-09-01T14:39:59.261075Z",
     "start_time": "2022-09-01T14:39:59.117979Z"
    }
   },
   "outputs": [
    {
     "data": {
      "image/png": "[encoded data removed]",
      "text/plain": [
       "<Figure size 640x480 with 1 Axes>"
      ]
     },
     "metadata": {},
     "output_type": "display_data"
    }
   ],
   "source": [
    "# Отображание точкек данных тестового набора\n",
    "plt.scatter(X_test, y_test, color = 'red')\n",
    "plt.plot(X_train, regressor.predict(X_train), color = 'blue')\n",
    "\n",
    "plt.title('Salary vs Experience (Test set)')\n",
    "\n",
    "plt.xlabel('Years of Experience')\n",
    "plt.ylabel('Salary')\n",
    "\n",
    "plt.show()"
   ]
  },
  {
   "cell_type": "markdown",
   "metadata": {},
   "source": [
    "### Вывод:\n",
    "Модель линейной регрессии - это статистическая модель, используемая для оценки отношения между зависимой переменной и одной или несколькими независимыми переменными. В основе линейной регрессии лежит предположение о линейной зависимости между переменными. Модель пытается найти линейную функцию, которая наилучшим образом соответствует данным путем минимизации суммы квадратов разностей между фактическими и предсказанными значениями.\n",
    "\n",
    "\n",
    "Линейная регрессия широко используется для прогнозирования и моделирования в различных областях, таких как: экономика, финансы, социология, биология и многие другие. В машинном обучении линейная регрессия также применяется для решения задач предсказания значений на основе входных признаков."
   ]
  }
 ],
 "metadata": {
  "kernelspec": {
   "display_name": "Python 3 (ipykernel)",
   "language": "python",
   "name": "python3"
  },
  "language_info": {
   "codemirror_mode": {
    "name": "ipython",
    "version": 3
   },
   "file_extension": ".py",
   "mimetype": "text/x-python",
   "name": "python",
   "nbconvert_exporter": "python",
   "pygments_lexer": "ipython3",
   "version": "3.9.13"
  },
  "toc": {
   "base_numbering": 1,
   "nav_menu": {},
   "number_sections": true,
   "sideBar": true,
   "skip_h1_title": false,
   "title_cell": "Table of Contents",
   "title_sidebar": "Contents",
   "toc_cell": false,
   "toc_position": {},
   "toc_section_display": true,
   "toc_window_display": false
  }
 },
 "nbformat": 4,
 "nbformat_minor": 2
}
