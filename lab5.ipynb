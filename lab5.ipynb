{
 "cells": [
  {
   "cell_type": "markdown",
   "id": "87647062",
   "metadata": {},
   "source": [
    "# Лабораторная работа 5. Логическая регрессия"
   ]
  },
  {
   "cell_type": "markdown",
   "id": "4d4a50f4",
   "metadata": {},
   "source": [
    "## <a href=\"https://www.kaggle.com/datasets/sahistapatel96/bankadditionalfullcsv\">Дополнительные банковские услуги</a>"
   ]
  },
  {
   "cell_type": "markdown",
   "id": "91bbe1bc",
   "metadata": {},
   "source": [
    "### Описание набора данных:\n",
    "Данные относятся к кампаниям прямого маркетинга (телефонным звонкам) португальского банковского учреждения. Цель классификации - предсказать, согласиться ли клиент на срочный депозит (значение y)."
   ]
  },
  {
   "cell_type": "markdown",
   "id": "44365954",
   "metadata": {},
   "source": [
    "### Прилагающаяся информация:\n",
    "Эти данные относятся к кампании прямого маркетинга, проводимой португальским банковским учреждением. Маркетинговые кампании основывались на телефонных звонках. Часто требовалось несколько контактов с одним и тем же клиентом, чтобы узнать, будет ли заключена сделка (банковский срочный депозит) (\"да\") или нет (\"нет\").\n",
    "\n",
    "bank-additional-full.csv со всеми примерами (41188) и 20 входными данными, упорядоченными по дате (с мая 2008 по ноябрь 2010), что очень близко к данным, проанализированным в [Moro et al., 2014]\n",
    "\n",
    "Самые маленькие наборы данных предоставляются для тестирования алгоритмов машинного обучения, требующих больших вычислительных затрат (например, SVM). Цель классификации - предсказать, согласится ли клиент (да/нет) на срочный депозит (значение y)."
   ]
  },
  {
   "cell_type": "markdown",
   "id": "4ed690c0",
   "metadata": {},
   "source": [
    "### Назначение набора данных и возможные модели:\n",
    "\n",
    "#### Данные клиента:\n",
    "1) age - <b>Целое</b> - возраст клиента\n",
    "2) job - <b>Категориальное</b> - категория занятости (categorical: 'admin', 'blue-collar', 'entrepreneur', 'housemaid', 'management', 'retired', 'self-employed', 'services', 'student', 'technician', 'unemployed', 'unknown')\n",
    "3) marital - <b>Категориальное</b> - семейное положение ('divorced', 'married', 'single', 'unknown')\n",
    "4) education - <b>Категориальное</b> - образование ('basic.4y', 'basic.6 y', 'basic.9y', 'high.school', 'illiterate', 'professional.course', 'university.degree', 'unknown')\n",
    "5) default - <b>Категориальное</b> - наличие кредита ('no','yes','unknown')\n",
    "6) housing - <b>Категориальное</b> - наличие ипотеки ('no','yes','unknown')\n",
    "7) loan - <b>Категориальное</b> - наличие \"личного\" займа ('no','yes','unknown')\n",
    "\n",
    "#### Последняя связь с контактом в рамках текущей кампании:\n",
    "8) contact - <b>Категориальное</b> - тип связи ('cellular','telephone')\n",
    "9) month - <b>Категориальное</b> - месяц, когда был совершен последний звонок ('jan', 'feb', 'mar', …, 'nov', 'dec')\n",
    "10) day_of_week - <b>Категориальное</b> - день недели, когда был совершен последний звонок('mon','tue','wed','thu','fri')\n",
    "11) duration - <b>Целое</b> - длительность последнего звонка в секундах. <i>Примечание: этот атрибут сильно влияет на конечный результат (например, если duration=0, то y='no'). Однако длительность неизвестна до выполнения вызова. Кроме того, очевидно, что время известно после завершения вызова. Таким образом, эти исходные данные следует включать только для целей сравнения и от них следует отказаться, если цель состоит в том, чтобы получить реалистичную прогностическую модель.\n",
    "\n",
    "#### Прочее:\n",
    "12) campaign - <b>Целое</b> - количество звонков клиенту за время последней компании (включая последний звонок)\n",
    "13) pdays - <b>Целое</b> - количество дней с последнего звонка клиенту в рамках данной кампании (999 - звонок клиенту в течение данной компании не осуществлялся)\n",
    "14) previous - <b>Целое</b> - количество звонков до текущей кампании\n",
    "15) poutcome - <b>Категориальное</b> - результат последней кампании ('failure','nonexistent','success')\n",
    "\n",
    "#### Социальные и экономические данные:\n",
    "16) emp.var.rate - <b>Целое</b> - коэффициент вариации занятости (квартальный показатель)\n",
    "17) cons.price.idx: - <b>Целое</b> - индекс потребительских цен (показатель за месяц)\n",
    "18) cons.conf.idx - <b>Целое</b> - индекс потребительского доверия (показатель за месяц)\n",
    "19) euribor3m - <b>Целое</b> - euribor 3 months (показатель за день)\n",
    "20) nr.employed - <b>Целое</b> - количество сотрудников (квартальный показатель)\n",
    "\n",
    "#### Выходная переменная:\n",
    "21) y - <b>Бинарное</b> (прим. на русском ближе всего подходит булевое) - решение клиента ('yes','no')"
   ]
  },
  {
   "cell_type": "markdown",
   "id": "ea456ca4",
   "metadata": {},
   "source": [
    "Загрузка библиотек и набора данных"
   ]
  },
  {
   "cell_type": "code",
   "id": "f085b982",
   "metadata": {
    "ExecuteTime": {
     "end_time": "2024-09-05T01:57:15.379545Z",
     "start_time": "2024-09-05T01:57:15.352030Z"
    }
   },
   "source": [
    "import pandas as pd\n",
    "import numpy as np\n",
    "import matplotlib.pyplot as plt\n",
    "import seaborn as sns\n",
    "\n",
    "plt.rc(\"font\", size=14)\n",
    "\n",
    "sns.set(style=\"white\")\n",
    "sns.set(style=\"whitegrid\", color_codes=True)\n",
    "\n",
    "data = pd.read_csv('banking.csv', header=0, delimiter=';')\n",
    "data = data.dropna()\n",
    "\n",
    "print(data.shape)\n",
    "print(list(data.columns))"
   ],
   "outputs": [
    {
     "name": "stdout",
     "output_type": "stream",
     "text": [
      "(4119, 21)\n",
      "['age', 'job', 'marital', 'education', 'default', 'housing', 'loan', 'contact', 'month', 'day_of_week', 'duration', 'campaign', 'pdays', 'previous', 'poutcome', 'emp.var.rate', 'cons.price.idx', 'cons.conf.idx', 'euribor3m', 'nr.employed', 'y']\n"
     ]
    }
   ],
   "execution_count": 10
  },
  {
   "cell_type": "markdown",
   "id": "1b543f44",
   "metadata": {},
   "source": "Вывод данных подтверждет, что набор состоит из записей о клиентах банка и содержит 41188 записей, состоящих из 21 поля:"
  },
  {
   "cell_type": "code",
   "id": "4a40152d",
   "metadata": {
    "ExecuteTime": {
     "end_time": "2024-09-05T01:57:23.680785Z",
     "start_time": "2024-09-05T01:57:23.651639Z"
    }
   },
   "source": [
    "data.head()"
   ],
   "outputs": [
    {
     "data": {
      "text/plain": [
       "   age          job  marital          education default  housing     loan  \\\n",
       "0   30  blue-collar  married           basic.9y      no      yes       no   \n",
       "1   39     services   single        high.school      no       no       no   \n",
       "2   25     services  married        high.school      no      yes       no   \n",
       "3   38     services  married           basic.9y      no  unknown  unknown   \n",
       "4   47       admin.  married  university.degree      no      yes       no   \n",
       "\n",
       "     contact month day_of_week  ...  campaign  pdays  previous     poutcome  \\\n",
       "0   cellular   may         fri  ...         2    999         0  nonexistent   \n",
       "1  telephone   may         fri  ...         4    999         0  nonexistent   \n",
       "2  telephone   jun         wed  ...         1    999         0  nonexistent   \n",
       "3  telephone   jun         fri  ...         3    999         0  nonexistent   \n",
       "4   cellular   nov         mon  ...         1    999         0  nonexistent   \n",
       "\n",
       "  emp.var.rate  cons.price.idx  cons.conf.idx  euribor3m  nr.employed   y  \n",
       "0         -1.8          92.893          -46.2      1.313       5099.1  no  \n",
       "1          1.1          93.994          -36.4      4.855       5191.0  no  \n",
       "2          1.4          94.465          -41.8      4.962       5228.1  no  \n",
       "3          1.4          94.465          -41.8      4.959       5228.1  no  \n",
       "4         -0.1          93.200          -42.0      4.191       5195.8  no  \n",
       "\n",
       "[5 rows x 21 columns]"
      ],
      "text/html": [
       "<div>\n",
       "<style scoped>\n",
       "    .dataframe tbody tr th:only-of-type {\n",
       "        vertical-align: middle;\n",
       "    }\n",
       "\n",
       "    .dataframe tbody tr th {\n",
       "        vertical-align: top;\n",
       "    }\n",
       "\n",
       "    .dataframe thead th {\n",
       "        text-align: right;\n",
       "    }\n",
       "</style>\n",
       "<table border=\"1\" class=\"dataframe\">\n",
       "  <thead>\n",
       "    <tr style=\"text-align: right;\">\n",
       "      <th></th>\n",
       "      <th>age</th>\n",
       "      <th>job</th>\n",
       "      <th>marital</th>\n",
       "      <th>education</th>\n",
       "      <th>default</th>\n",
       "      <th>housing</th>\n",
       "      <th>loan</th>\n",
       "      <th>contact</th>\n",
       "      <th>month</th>\n",
       "      <th>day_of_week</th>\n",
       "      <th>...</th>\n",
       "      <th>campaign</th>\n",
       "      <th>pdays</th>\n",
       "      <th>previous</th>\n",
       "      <th>poutcome</th>\n",
       "      <th>emp.var.rate</th>\n",
       "      <th>cons.price.idx</th>\n",
       "      <th>cons.conf.idx</th>\n",
       "      <th>euribor3m</th>\n",
       "      <th>nr.employed</th>\n",
       "      <th>y</th>\n",
       "    </tr>\n",
       "  </thead>\n",
       "  <tbody>\n",
       "    <tr>\n",
       "      <th>0</th>\n",
       "      <td>30</td>\n",
       "      <td>blue-collar</td>\n",
       "      <td>married</td>\n",
       "      <td>basic.9y</td>\n",
       "      <td>no</td>\n",
       "      <td>yes</td>\n",
       "      <td>no</td>\n",
       "      <td>cellular</td>\n",
       "      <td>may</td>\n",
       "      <td>fri</td>\n",
       "      <td>...</td>\n",
       "      <td>2</td>\n",
       "      <td>999</td>\n",
       "      <td>0</td>\n",
       "      <td>nonexistent</td>\n",
       "      <td>-1.8</td>\n",
       "      <td>92.893</td>\n",
       "      <td>-46.2</td>\n",
       "      <td>1.313</td>\n",
       "      <td>5099.1</td>\n",
       "      <td>no</td>\n",
       "    </tr>\n",
       "    <tr>\n",
       "      <th>1</th>\n",
       "      <td>39</td>\n",
       "      <td>services</td>\n",
       "      <td>single</td>\n",
       "      <td>high.school</td>\n",
       "      <td>no</td>\n",
       "      <td>no</td>\n",
       "      <td>no</td>\n",
       "      <td>telephone</td>\n",
       "      <td>may</td>\n",
       "      <td>fri</td>\n",
       "      <td>...</td>\n",
       "      <td>4</td>\n",
       "      <td>999</td>\n",
       "      <td>0</td>\n",
       "      <td>nonexistent</td>\n",
       "      <td>1.1</td>\n",
       "      <td>93.994</td>\n",
       "      <td>-36.4</td>\n",
       "      <td>4.855</td>\n",
       "      <td>5191.0</td>\n",
       "      <td>no</td>\n",
       "    </tr>\n",
       "    <tr>\n",
       "      <th>2</th>\n",
       "      <td>25</td>\n",
       "      <td>services</td>\n",
       "      <td>married</td>\n",
       "      <td>high.school</td>\n",
       "      <td>no</td>\n",
       "      <td>yes</td>\n",
       "      <td>no</td>\n",
       "      <td>telephone</td>\n",
       "      <td>jun</td>\n",
       "      <td>wed</td>\n",
       "      <td>...</td>\n",
       "      <td>1</td>\n",
       "      <td>999</td>\n",
       "      <td>0</td>\n",
       "      <td>nonexistent</td>\n",
       "      <td>1.4</td>\n",
       "      <td>94.465</td>\n",
       "      <td>-41.8</td>\n",
       "      <td>4.962</td>\n",
       "      <td>5228.1</td>\n",
       "      <td>no</td>\n",
       "    </tr>\n",
       "    <tr>\n",
       "      <th>3</th>\n",
       "      <td>38</td>\n",
       "      <td>services</td>\n",
       "      <td>married</td>\n",
       "      <td>basic.9y</td>\n",
       "      <td>no</td>\n",
       "      <td>unknown</td>\n",
       "      <td>unknown</td>\n",
       "      <td>telephone</td>\n",
       "      <td>jun</td>\n",
       "      <td>fri</td>\n",
       "      <td>...</td>\n",
       "      <td>3</td>\n",
       "      <td>999</td>\n",
       "      <td>0</td>\n",
       "      <td>nonexistent</td>\n",
       "      <td>1.4</td>\n",
       "      <td>94.465</td>\n",
       "      <td>-41.8</td>\n",
       "      <td>4.959</td>\n",
       "      <td>5228.1</td>\n",
       "      <td>no</td>\n",
       "    </tr>\n",
       "    <tr>\n",
       "      <th>4</th>\n",
       "      <td>47</td>\n",
       "      <td>admin.</td>\n",
       "      <td>married</td>\n",
       "      <td>university.degree</td>\n",
       "      <td>no</td>\n",
       "      <td>yes</td>\n",
       "      <td>no</td>\n",
       "      <td>cellular</td>\n",
       "      <td>nov</td>\n",
       "      <td>mon</td>\n",
       "      <td>...</td>\n",
       "      <td>1</td>\n",
       "      <td>999</td>\n",
       "      <td>0</td>\n",
       "      <td>nonexistent</td>\n",
       "      <td>-0.1</td>\n",
       "      <td>93.200</td>\n",
       "      <td>-42.0</td>\n",
       "      <td>4.191</td>\n",
       "      <td>5195.8</td>\n",
       "      <td>no</td>\n",
       "    </tr>\n",
       "  </tbody>\n",
       "</table>\n",
       "<p>5 rows × 21 columns</p>\n",
       "</div>"
      ]
     },
     "execution_count": 11,
     "metadata": {},
     "output_type": "execute_result"
    }
   ],
   "execution_count": 11
  },
  {
   "cell_type": "markdown",
   "id": "7beb7ae5",
   "metadata": {},
   "source": "Сгруппируем \"basic.4y\", \"basic.9y\" и \"basic.6y\". Назовем этот срез \"Basic\":"
  },
  {
   "cell_type": "code",
   "id": "377782f8",
   "metadata": {
    "ExecuteTime": {
     "end_time": "2024-09-05T01:57:31.168401Z",
     "start_time": "2024-09-05T01:57:31.154225Z"
    }
   },
   "source": [
    "data['education']=np.where(data['education'] =='basic.9y', 'Basic', data['education'])\n",
    "data['education']=np.where(data['education'] =='basic.6y', 'Basic', data['education'])\n",
    "data['education']=np.where(data['education'] =='basic.4y', 'Basic', data['education'])"
   ],
   "outputs": [],
   "execution_count": 12
  },
  {
   "cell_type": "code",
   "id": "89b56b85",
   "metadata": {
    "ExecuteTime": {
     "end_time": "2024-09-05T01:57:34.391954Z",
     "start_time": "2024-09-05T01:57:34.384236Z"
    }
   },
   "source": [
    "data['education'].unique()"
   ],
   "outputs": [
    {
     "data": {
      "text/plain": [
       "array(['Basic', 'high.school', 'university.degree', 'professional.course',\n",
       "       'unknown', 'illiterate'], dtype=object)"
      ]
     },
     "execution_count": 13,
     "metadata": {},
     "output_type": "execute_result"
    }
   ],
   "execution_count": 13
  },
  {
   "cell_type": "code",
   "id": "3eb312f3",
   "metadata": {
    "ExecuteTime": {
     "end_time": "2024-09-05T01:57:36.826771Z",
     "start_time": "2024-09-05T01:57:36.816749Z"
    }
   },
   "source": [
    "data['y'].value_counts()"
   ],
   "outputs": [
    {
     "data": {
      "text/plain": [
       "y\n",
       "no     3668\n",
       "yes     451\n",
       "Name: count, dtype: int64"
      ]
     },
     "execution_count": 14,
     "metadata": {},
     "output_type": "execute_result"
    }
   ],
   "execution_count": 14
  },
  {
   "cell_type": "code",
   "id": "edf11fef",
   "metadata": {
    "ExecuteTime": {
     "end_time": "2024-09-05T01:58:34.533808Z",
     "start_time": "2024-09-05T01:58:34.523929Z"
    }
   },
   "source": [
    "count_no_sub = len(data[data['y'] == 'no'])\n",
    "count_sub = len(data[data['y'] == 'yes'])\n",
    "pct_of_no_sub = count_no_sub / (count_no_sub + count_sub)\n",
    "pct_of_sub = count_sub / (count_no_sub + count_sub)\n",
    "\n",
    "print(\"percentage of no subscription is: \", pct_of_no_sub * 100)\n",
    "print(\"percentage of subscription is: \", pct_of_sub * 100)"
   ],
   "outputs": [
    {
     "name": "stdout",
     "output_type": "stream",
     "text": [
      "percentage of no subscription is:  89.0507404709881\n",
      "percentage of subscription is:  10.949259529011895\n"
     ]
    }
   ],
   "execution_count": 16
  },
  {
   "cell_type": "markdown",
   "id": "4585aec4",
   "metadata": {},
   "source": [
    "Получаем два значения:\n",
    "без вклада — 89,0507404709881, \n",
    "со вкладом — 10.949259529011895"
   ]
  },
  {
   "cell_type": "code",
   "id": "b1c5bd1f",
   "metadata": {
    "ExecuteTime": {
     "end_time": "2024-09-05T02:03:14.775592Z",
     "start_time": "2024-09-05T02:03:14.769151Z"
    }
   },
   "source": "data.groupby('job').mean()",
   "outputs": [
    {
     "data": {
      "text/plain": [
       "<pandas.core.groupby.generic.DataFrameGroupBy object at 0x000002950FE54560>"
      ]
     },
     "execution_count": 28,
     "metadata": {},
     "output_type": "execute_result"
    }
   ],
   "execution_count": 28
  },
  {
   "cell_type": "markdown",
   "id": "9fb304b4",
   "metadata": {},
   "source": [
    "Из полученной таблицы можно сделать выводы:\n",
    "* Cредний возраст среди пенсионеров - 62 года\n",
    "* Наименьшее среднее количество дней с момента последнего контакта с клиентом наблюдается у студентов и пенсионеров\n",
    "* Зачастую соглашаются на предложения банка именно студенты и пенсионеры, в то время как обслуживающий персонал и \"синии воротнички\" - отказываются"
   ]
  },
  {
   "cell_type": "code",
   "execution_count": null,
   "id": "97c0da85",
   "metadata": {},
   "outputs": [
    {
     "data": {
      "text/html": [
       "<div>\n",
       "<style scoped>\n",
       "    .dataframe tbody tr th:only-of-type {\n",
       "        vertical-align: middle;\n",
       "    }\n",
       "\n",
       "    .dataframe tbody tr th {\n",
       "        vertical-align: top;\n",
       "    }\n",
       "\n",
       "    .dataframe thead th {\n",
       "        text-align: right;\n",
       "    }\n",
       "</style>\n",
       "<table border=\"1\" class=\"dataframe\">\n",
       "  <thead>\n",
       "    <tr style=\"text-align: right;\">\n",
       "      <th></th>\n",
       "      <th>age</th>\n",
       "      <th>duration</th>\n",
       "      <th>campaign</th>\n",
       "      <th>pdays</th>\n",
       "      <th>previous</th>\n",
       "      <th>emp_var_rate</th>\n",
       "      <th>cons_price_idx</th>\n",
       "      <th>cons_conf_idx</th>\n",
       "      <th>euribor3m</th>\n",
       "      <th>nr_employed</th>\n",
       "      <th>y</th>\n",
       "    </tr>\n",
       "    <tr>\n",
       "      <th>education</th>\n",
       "      <th></th>\n",
       "      <th></th>\n",
       "      <th></th>\n",
       "      <th></th>\n",
       "      <th></th>\n",
       "      <th></th>\n",
       "      <th></th>\n",
       "      <th></th>\n",
       "      <th></th>\n",
       "      <th></th>\n",
       "      <th></th>\n",
       "    </tr>\n",
       "  </thead>\n",
       "  <tbody>\n",
       "    <tr>\n",
       "      <th>Basic</th>\n",
       "      <td>42.163910</td>\n",
       "      <td>263.043874</td>\n",
       "      <td>2.559498</td>\n",
       "      <td>974.877967</td>\n",
       "      <td>0.141053</td>\n",
       "      <td>0.191329</td>\n",
       "      <td>93.639933</td>\n",
       "      <td>-40.927595</td>\n",
       "      <td>3.729654</td>\n",
       "      <td>5172.014113</td>\n",
       "      <td>0.087029</td>\n",
       "    </tr>\n",
       "    <tr>\n",
       "      <th>high.school</th>\n",
       "      <td>37.998213</td>\n",
       "      <td>260.886810</td>\n",
       "      <td>2.568576</td>\n",
       "      <td>964.358382</td>\n",
       "      <td>0.185917</td>\n",
       "      <td>0.032937</td>\n",
       "      <td>93.584857</td>\n",
       "      <td>-40.940641</td>\n",
       "      <td>3.556157</td>\n",
       "      <td>5164.994735</td>\n",
       "      <td>0.108355</td>\n",
       "    </tr>\n",
       "    <tr>\n",
       "      <th>illiterate</th>\n",
       "      <td>48.500000</td>\n",
       "      <td>276.777778</td>\n",
       "      <td>2.277778</td>\n",
       "      <td>943.833333</td>\n",
       "      <td>0.111111</td>\n",
       "      <td>-0.133333</td>\n",
       "      <td>93.317333</td>\n",
       "      <td>-39.950000</td>\n",
       "      <td>3.516556</td>\n",
       "      <td>5171.777778</td>\n",
       "      <td>0.222222</td>\n",
       "    </tr>\n",
       "    <tr>\n",
       "      <th>professional.course</th>\n",
       "      <td>40.080107</td>\n",
       "      <td>252.533855</td>\n",
       "      <td>2.586115</td>\n",
       "      <td>960.765974</td>\n",
       "      <td>0.163075</td>\n",
       "      <td>0.173012</td>\n",
       "      <td>93.569864</td>\n",
       "      <td>-40.124108</td>\n",
       "      <td>3.710457</td>\n",
       "      <td>5170.155979</td>\n",
       "      <td>0.113485</td>\n",
       "    </tr>\n",
       "    <tr>\n",
       "      <th>university.degree</th>\n",
       "      <td>38.879191</td>\n",
       "      <td>253.223373</td>\n",
       "      <td>2.563527</td>\n",
       "      <td>951.807692</td>\n",
       "      <td>0.192390</td>\n",
       "      <td>-0.028090</td>\n",
       "      <td>93.493466</td>\n",
       "      <td>-39.975805</td>\n",
       "      <td>3.529663</td>\n",
       "      <td>5163.226298</td>\n",
       "      <td>0.137245</td>\n",
       "    </tr>\n",
       "    <tr>\n",
       "      <th>unknown</th>\n",
       "      <td>43.481225</td>\n",
       "      <td>262.390526</td>\n",
       "      <td>2.596187</td>\n",
       "      <td>942.830734</td>\n",
       "      <td>0.226459</td>\n",
       "      <td>0.059099</td>\n",
       "      <td>93.658615</td>\n",
       "      <td>-39.877816</td>\n",
       "      <td>3.571098</td>\n",
       "      <td>5159.549509</td>\n",
       "      <td>0.145003</td>\n",
       "    </tr>\n",
       "  </tbody>\n",
       "</table>\n",
       "</div>"
      ],
      "text/plain": [
       "                           age    duration  campaign       pdays  previous  \\\n",
       "education                                                                    \n",
       "Basic                42.163910  263.043874  2.559498  974.877967  0.141053   \n",
       "high.school          37.998213  260.886810  2.568576  964.358382  0.185917   \n",
       "illiterate           48.500000  276.777778  2.277778  943.833333  0.111111   \n",
       "professional.course  40.080107  252.533855  2.586115  960.765974  0.163075   \n",
       "university.degree    38.879191  253.223373  2.563527  951.807692  0.192390   \n",
       "unknown              43.481225  262.390526  2.596187  942.830734  0.226459   \n",
       "\n",
       "                     emp_var_rate  cons_price_idx  cons_conf_idx  euribor3m  \\\n",
       "education                                                                     \n",
       "Basic                    0.191329       93.639933     -40.927595   3.729654   \n",
       "high.school              0.032937       93.584857     -40.940641   3.556157   \n",
       "illiterate              -0.133333       93.317333     -39.950000   3.516556   \n",
       "professional.course      0.173012       93.569864     -40.124108   3.710457   \n",
       "university.degree       -0.028090       93.493466     -39.975805   3.529663   \n",
       "unknown                  0.059099       93.658615     -39.877816   3.571098   \n",
       "\n",
       "                     nr_employed         y  \n",
       "education                                   \n",
       "Basic                5172.014113  0.087029  \n",
       "high.school          5164.994735  0.108355  \n",
       "illiterate           5171.777778  0.222222  \n",
       "professional.course  5170.155979  0.113485  \n",
       "university.degree    5163.226298  0.137245  \n",
       "unknown              5159.549509  0.145003  "
      ]
     },
     "execution_count": 15,
     "metadata": {},
     "output_type": "execute_result"
    }
   ],
   "source": [
    "data.groupby('education').mean()"
   ]
  },
  {
   "cell_type": "markdown",
   "id": "0b5bf9ed",
   "metadata": {},
   "source": [
    "* Средний возраст клиентов, открывших вклад, выше среднего возраста тех, кто этого не сделал\n",
    "* Количество дней с последнего контакта с клиентом меньше у клиентов, открывших депозит\n",
    "* Количество звонков за одну кампанию меньше у клиентов, которые открыли депозит"
   ]
  },
  {
   "cell_type": "code",
   "execution_count": null,
   "id": "4961b62d",
   "metadata": {},
   "outputs": [],
   "source": [
    "cat_vars=['job','marital','education','default','housing','loan','contact','month','day_of_week','poutcome']\n",
    "\n",
    "for var in cat_vars:\n",
    "    cat_list = pd.get_dummies(data[var], prefix=var)\n",
    "    data1 = data.join(cat_list)\n",
    "    data = data1\n",
    "cat_vars = ['job','marital','education','default','housing','loan','contact','month','day_of_week','poutcome']\n",
    "data_vars = data.columns.values.tolist()\n",
    "to_keep = [i for i in data_vars if i not in cat_vars]"
   ]
  },
  {
   "cell_type": "code",
   "execution_count": null,
   "id": "4fb1967f",
   "metadata": {},
   "outputs": [
    {
     "data": {
      "text/plain": [
       "array(['age', 'duration', 'campaign', 'pdays', 'previous', 'emp_var_rate',\n",
       "       'cons_price_idx', 'cons_conf_idx', 'euribor3m', 'nr_employed', 'y',\n",
       "       'job_admin.', 'job_blue-collar', 'job_entrepreneur',\n",
       "       'job_housemaid', 'job_management', 'job_retired',\n",
       "       'job_self-employed', 'job_services', 'job_student',\n",
       "       'job_technician', 'job_unemployed', 'job_unknown',\n",
       "       'marital_divorced', 'marital_married', 'marital_single',\n",
       "       'marital_unknown', 'education_Basic', 'education_high.school',\n",
       "       'education_illiterate', 'education_professional.course',\n",
       "       'education_university.degree', 'education_unknown', 'default_no',\n",
       "       'default_unknown', 'default_yes', 'housing_no', 'housing_unknown',\n",
       "       'housing_yes', 'loan_no', 'loan_unknown', 'loan_yes',\n",
       "       'contact_cellular', 'contact_telephone', 'month_apr', 'month_aug',\n",
       "       'month_dec', 'month_jul', 'month_jun', 'month_mar', 'month_may',\n",
       "       'month_nov', 'month_oct', 'month_sep', 'day_of_week_fri',\n",
       "       'day_of_week_mon', 'day_of_week_thu', 'day_of_week_tue',\n",
       "       'day_of_week_wed', 'poutcome_failure', 'poutcome_nonexistent',\n",
       "       'poutcome_success'], dtype=object)"
      ]
     },
     "execution_count": 17,
     "metadata": {},
     "output_type": "execute_result"
    }
   ],
   "source": [
    "data_final = data[to_keep]\n",
    "data_final.columns.values"
   ]
  },
  {
   "cell_type": "markdown",
   "id": "57d1c372",
   "metadata": {},
   "source": "Этот блок кода использует метод RFE из библиотеки scikit-learn для отбора признаков с использованием логистической регрессии. RFE - это техника, которая рекурсивно удаляет наименее значимые признаки и строит модель до достижения указанного количества признаков. В данном случае модель логистической регрессии выбирает лучшие и худшие в плане производительности признаки, а затем отбрасывает признак, рекурсивно рассматривая всё меньшие и меньшие их множества"
  },
  {
   "cell_type": "code",
   "execution_count": 34,
   "id": "3f3c986f",
   "metadata": {},
   "outputs": [
    {
     "ename": "TypeError",
     "evalue": "__init__() takes 2 positional arguments but 3 were given",
     "output_type": "error",
     "traceback": [
      "\u001B[1;31m---------------------------------------------------------------------------\u001B[0m",
      "\u001B[1;31mTypeError\u001B[0m                                 Traceback (most recent call last)",
      "\u001B[1;32m~\\AppData\\Local\\Temp\\ipykernel_12692\\1599657283.py\u001B[0m in \u001B[0;36m<module>\u001B[1;34m\u001B[0m\n\u001B[0;32m      5\u001B[0m \u001B[1;32mfrom\u001B[0m \u001B[0msklearn\u001B[0m\u001B[1;33m.\u001B[0m\u001B[0mlinear_model\u001B[0m \u001B[1;32mimport\u001B[0m \u001B[0mLogisticRegression\u001B[0m\u001B[1;33m\u001B[0m\u001B[1;33m\u001B[0m\u001B[0m\n\u001B[0;32m      6\u001B[0m \u001B[0mlogreg\u001B[0m \u001B[1;33m=\u001B[0m \u001B[0mLogisticRegression\u001B[0m\u001B[1;33m(\u001B[0m\u001B[1;33m)\u001B[0m\u001B[1;33m\u001B[0m\u001B[1;33m\u001B[0m\u001B[0m\n\u001B[1;32m----> 7\u001B[1;33m \u001B[0mrfe\u001B[0m \u001B[1;33m=\u001B[0m \u001B[0mRFE\u001B[0m\u001B[1;33m(\u001B[0m\u001B[0mlogreg\u001B[0m\u001B[1;33m,\u001B[0m \u001B[1;36m20\u001B[0m\u001B[1;33m)\u001B[0m\u001B[1;33m\u001B[0m\u001B[1;33m\u001B[0m\u001B[0m\n\u001B[0m\u001B[0;32m      8\u001B[0m \u001B[0mrfe\u001B[0m \u001B[1;33m=\u001B[0m \u001B[0mrfe\u001B[0m\u001B[1;33m.\u001B[0m\u001B[0mfit\u001B[0m\u001B[1;33m(\u001B[0m\u001B[0mos_data_X\u001B[0m\u001B[1;33m,\u001B[0m \u001B[0mos_data_y\u001B[0m\u001B[1;33m.\u001B[0m\u001B[0mvalues\u001B[0m\u001B[1;33m.\u001B[0m\u001B[0mravel\u001B[0m\u001B[1;33m(\u001B[0m\u001B[1;33m)\u001B[0m\u001B[1;33m)\u001B[0m\u001B[1;33m\u001B[0m\u001B[1;33m\u001B[0m\u001B[0m\n\u001B[0;32m      9\u001B[0m \u001B[0mprint\u001B[0m\u001B[1;33m(\u001B[0m\u001B[0mrfe\u001B[0m\u001B[1;33m.\u001B[0m\u001B[0msupport_\u001B[0m\u001B[1;33m)\u001B[0m\u001B[1;33m\u001B[0m\u001B[1;33m\u001B[0m\u001B[0m\n",
      "\u001B[1;31mTypeError\u001B[0m: __init__() takes 2 positional arguments but 3 were given"
     ]
    }
   ],
   "source": [
    "from sklearn.feature_selection import RFE\n",
    "from sklearn.linear_model import LogisticRegression\n",
    "\n",
    "\n",
    "data_final_vars = data_final.columns.values.tolist()\n",
    "\n",
    "y = ['y']\n",
    "X = [i for i in data_final_vars if i not in y]\n",
    "\n",
    "logreg = LogisticRegression()\n",
    "\n",
    "rfe = RFE(logreg, step=20)\n",
    "rfe = rfe.fit(os_data_X, os_data_y.values.ravel())\n",
    "\n",
    "print(rfe.support_)\n",
    "print(rfe.ranking_)"
   ]
  },
  {
   "cell_type": "markdown",
   "id": "36c7d5a0",
   "metadata": {},
   "source": " Метод выбрал следующие признаки: \"euribor3m\", \"job_blue-collar\", \"job_housemaid\", \"marital_unknown\", \"education_illiterate\", \"default_no\", \"default_unknown\", \"contact_cellular\", \"contact_telephone\", \"month_apr\", \"month_aug\", \"month_dec\", \"month_jul\", \"month_jun\", \"month_mar\", \"month_may\", \"month_nov\", \"month_oct\", \"poutcome_failure\", \"poutcome_success\""
  },
  {
   "cell_type": "code",
   "execution_count": 36,
   "id": "c9231bef",
   "metadata": {},
   "outputs": [
    {
     "name": "stdout",
     "output_type": "stream",
     "text": [
      "Optimization terminated successfully.\n",
      "         Current function value: 0.547516\n",
      "         Iterations 7\n",
      "                           Results: Logit\n",
      "=====================================================================\n",
      "Model:                Logit             Pseudo R-squared:  0.210     \n",
      "Dependent Variable:   y                 AIC:               56025.3883\n",
      "Date:                 2024-03-24 20:30  BIC:               56166.8635\n",
      "No. Observations:     51134             Log-Likelihood:    -27997.   \n",
      "Df Model:             15                LL-Null:           -35443.   \n",
      "Df Residuals:         51118             LLR p-value:       0.0000    \n",
      "Converged:            1.0000            Scale:             1.0000    \n",
      "No. Iterations:       7.0000                                         \n",
      "---------------------------------------------------------------------\n",
      "                      Coef.  Std.Err.    z     P>|z|   [0.025  0.975]\n",
      "---------------------------------------------------------------------\n",
      "euribor3m             0.1726   0.0055  31.1231 0.0000  0.1617  0.1835\n",
      "job_blue-collar      -1.0761   0.0360 -29.9182 0.0000 -1.1465 -1.0056\n",
      "job_housemaid        -1.6936   0.1293 -13.1030 0.0000 -1.9469 -1.4403\n",
      "marital_unknown      -1.1130   0.4136  -2.6908 0.0071 -1.9237 -0.3023\n",
      "education_illiterate  0.1325   0.6595   0.2009 0.8408 -1.1602  1.4251\n",
      "month_apr            -0.2660   0.0414  -6.4324 0.0000 -0.3470 -0.1849\n",
      "month_aug            -1.6700   0.0393 -42.4900 0.0000 -1.7471 -1.5930\n",
      "month_dec            -0.1384   0.1606  -0.8616 0.3889 -0.4532  0.1764\n",
      "month_jul            -1.6077   0.0391 -41.1482 0.0000 -1.6843 -1.5311\n",
      "month_jun            -1.3552   0.0394 -34.4031 0.0000 -1.4324 -1.2780\n",
      "month_mar             0.7367   0.0859   8.5771 0.0000  0.5684  0.9050\n",
      "month_may            -1.5298   0.0302 -50.7234 0.0000 -1.5889 -1.4707\n",
      "month_nov            -1.7487   0.0467 -37.4200 0.0000 -1.8403 -1.6571\n",
      "month_oct             0.4962   0.0751   6.6078 0.0000  0.3490  0.6434\n",
      "poutcome_failure      0.0003   0.0419   0.0063 0.9949 -0.0818  0.0824\n",
      "poutcome_success      3.1910   0.0595  53.6365 0.0000  3.0744  3.3076\n",
      "=====================================================================\n",
      "\n"
     ]
    }
   ],
   "source": [
    "cols = ['euribor3m', 'job_blue-collar', 'job_housemaid', 'marital_unknown', 'education_illiterate', 'month_apr', 'month_aug', 'month_dec', 'month_jul', 'month_jun', 'month_mar', 'month_may', 'month_nov', 'month_oct', \"poutcome_failure\", \"poutcome_success\"] \n",
    "\n",
    "X = os_data_X[cols]\n",
    "y = os_data_y['y']\n",
    "\n",
    "logit_model = sm.Logit(y,X)\n",
    "result = logit_model.fit()\n",
    "\n",
    "print(result.summary2())"
   ]
  },
  {
   "cell_type": "markdown",
   "id": "1cdea173",
   "metadata": {},
   "source": [
    "Краткий анализ полученной модели логистической регрессии:\n",
    "1) Текущее значение функции: Текущее значение функции составляет 0.547516. Это значение может быть связано с функцией правдоподобия или другой метрикой, используемой в процессе оптимизации модели.\n",
    "2) Итерации: Для достижения оптимальных параметров модели потребовалось 7 итераций.\n",
    "3) Pseudo R-squared: Значение псевдо R-квадрата составляет 0.210. Это показатель объяснительной способности модели, который указывает на то, насколько хорошо модель объясняет изменчивость зависимой переменной.\n",
    "4) AIC и BIC: AIC (информационный критерий Акаике) равен 56025.3883, а BIC (критерий Шеннона) равен 56166.8635. Эти критерии используются для сравнения моделей, где более низкие значения указывают на более предпочтительные модели.\n",
    "5) Коэффициенты и p-значения: Для каждого выбранного признака выводятся их коэффициенты, стандартные ошибки, z-значения и p-значения. Эти статистики помогают определить влияние каждого признака на целевую переменную.\n",
    "6) LLR p-value: Значение p-значения для LLR (likelihood ratio test) равно 0.0000. Это может указывать на статистическую значимость модели в целом.\n",
    "7) Converged: Значение 1.0000 указывает на успешную сходимость модели.\n",
    "\n",
    "Процесс отбора признаков помогает выявить ключевые факторы, влияющие на целевую переменную, что может быть полезно для принятия решений и понимания важности различных аспектов исследуемого явления."
   ]
  },
  {
   "cell_type": "markdown",
   "id": "3c2b363d",
   "metadata": {},
   "source": [
    "Обогащение синтетическими данными через SMOTE"
   ]
  },
  {
   "cell_type": "code",
   "execution_count": null,
   "id": "c53d5bfd",
   "metadata": {},
   "outputs": [
    {
     "name": "stdout",
     "output_type": "stream",
     "text": [
      "Length of oversampled data is  51134\n",
      "Number of no subscription in oversampled data 25567\n",
      "Number of subscription 25567\n",
      "Proportion of no subscription data in oversampled data is  0.5\n",
      "Proportion of subscription data in oversampled data is  0.5\n"
     ]
    }
   ],
   "source": [
    "from imblearn.over_sampling import SMOTE\n",
    "import pandas as pd\n",
    "from sklearn.model_selection import train_test_split\n",
    "\n",
    "X_train, X_test, y_train, y_test = train_test_split(X, y, test_size=0.3, random_state=0)\n",
    "\n",
    "os = SMOTE(random_state=0)\n",
    "os_data_X, os_data_y = os.fit_resample(X_train, y_train)\n",
    "\n",
    "os_data_X = pd.DataFrame(data=os_data_X, columns=X.columns)\n",
    "os_data_y = pd.DataFrame(data=os_data_y, columns=['y'])\n",
    "\n",
    "print(\"Length of oversampled data is \", len(os_data_X))\n",
    "print(\"Number of no subscription in oversampled data\", len(os_data_y[os_data_y['y'] == 0]))\n",
    "print(\"Number of subscription\", len(os_data_y[os_data_y['y'] == 1]))\n",
    "print(\"Proportion of no subscription data in oversampled data is \", len(os_data_y[os_data_y['y'] == 0]) / len(os_data_X))\n",
    "print(\"Proportion of subscription data in oversampled data is \", len(os_data_y[os_data_y['y'] == 1]) / len(os_data_X))"
   ]
  },
  {
   "cell_type": "markdown",
   "id": "ce913ed1",
   "metadata": {},
   "source": [
    "Исходя из полученных значений, можно сказать, что синтетически увеличилась подборка только для тренировочных данных, а следовательно и данные из этого набора не уйдут в обучающий набор"
   ]
  },
  {
   "cell_type": "markdown",
   "id": "5c674b8a",
   "metadata": {},
   "source": [
    "Обучение модели логистической регрессии"
   ]
  },
  {
   "cell_type": "code",
   "execution_count": 39,
   "id": "65857b46",
   "metadata": {},
   "outputs": [
    {
     "name": "stdout",
     "output_type": "stream",
     "text": [
      "Accuracy of logistic regression classifier on test set: 0.83\n"
     ]
    }
   ],
   "source": [
    "y_pred = logreg.predict(X_test)\n",
    "\n",
    "print('Accuracy of logistic regression classifier on test set: {:.2f}'.format(logreg.score(X_test, y_test)))"
   ]
  },
  {
   "cell_type": "code",
   "execution_count": 41,
   "id": "fbd76171",
   "metadata": {},
   "outputs": [
    {
     "name": "stdout",
     "output_type": "stream",
     "text": [
      "              precision    recall  f1-score   support\n",
      "\n",
      "           0       0.80      0.89      0.84      7666\n",
      "           1       0.88      0.78      0.82      7675\n",
      "\n",
      "    accuracy                           0.83     15341\n",
      "   macro avg       0.84      0.83      0.83     15341\n",
      "weighted avg       0.84      0.83      0.83     15341\n",
      "\n"
     ]
    }
   ],
   "source": [
    "from sklearn.metrics import classification_report\n",
    "\n",
    "print(classification_report(y_test, y_pred))"
   ]
  },
  {
   "cell_type": "markdown",
   "id": "892235a9",
   "metadata": {},
   "source": [
    "Расчёт F-меры говорит нам, что 83% рекламируемых срочных депозитов из набора данных заинтересовали клиента\n",
    "\n",
    "<i>Оценку F-beta можно понимать как взвешенное гармоническое среднее точности и полноты.</i>\n",
    "\n",
    "<i>Точность — это доля верных положительных предсказаний от общего количества положительных предсказаний.</i>\n",
    "\n",
    "<i>Полнота — это доля верных положительных предсказаний от общего количества реальных положительных классов в тестовом наборе.</i>"
   ]
  },
  {
   "cell_type": "code",
   "execution_count": 53,
   "id": "fc6b3c49",
   "metadata": {},
   "outputs": [
    {
     "data": {
      "image/png": "[encoded data removed]",
      "text/plain": [
       "<Figure size 640x480 with 1 Axes>"
      ]
     },
     "metadata": {},
     "output_type": "display_data"
    }
   ],
   "source": [
    "from sklearn.metrics import roc_auc_score\n",
    "from sklearn.metrics import roc_curve\n",
    "\n",
    "\n",
    "logit_roc_auc = roc_auc_score(y_test, logreg.predict(X_test))\n",
    "fpr, tpr, thresholds = roc_curve(y_test, logreg.predict_proba(X_test)[:,1])\n",
    "\n",
    "plt.figure()\n",
    "\n",
    "plt.plot(fpr, tpr, 'bo-', label='Logistic Regression (area = %0.2f)' % logit_roc_auc)\n",
    "plt.xlim([0.0, 1.0])\n",
    "plt.ylim([0.0, 1.05])\n",
    "plt.xlabel('False Positive Rate')\n",
    "plt.ylabel('True Positive Rate')\n",
    "plt.title('Receiver operating characteristic')\n",
    "plt.legend(loc=\"lower right\")\n",
    "\n",
    "plt.savefig('Log_ROC')\n",
    "plt.show()"
   ]
  },
  {
   "cell_type": "markdown",
   "id": "35ec5b68",
   "metadata": {},
   "source": [
    "### Вывод: \n",
    "Логистическая регрессия - это статистический метод, используемый для моделирования вероятности возникновения некоторого события в зависимости от набора входных переменных. В отличие от обычной линейной регрессии, которая предсказывает непрерывные значения, логистическая регрессия предсказывает вероятность принадлежности к определенному классу. Она широко используется в задачах классификации, таких как прогнозирование болезни на основе медицинских признаков или определение категории покупателя на основе его поведения.\n",
    "<br/>\n",
    "<br/>ROC — другой распространённый в бинарной классификации инструмент. Восходящая прямая линия углового коэффициента 1 здесь представляет кривую рабочей характеристики приемника для чисто случайного классификатора, при этом график хорошего классификатора держится от восходящей прямой как можно дальше, к левому верхнему углу."
   ]
  }
 ],
 "metadata": {
  "kernelspec": {
   "display_name": "Python 3 (ipykernel)",
   "language": "python",
   "name": "python3"
  },
  "language_info": {
   "codemirror_mode": {
    "name": "ipython",
    "version": 3
   },
   "file_extension": ".py",
   "mimetype": "text/x-python",
   "name": "python",
   "nbconvert_exporter": "python",
   "pygments_lexer": "ipython3",
   "version": "3.9.13"
  }
 },
 "nbformat": 4,
 "nbformat_minor": 5
}
